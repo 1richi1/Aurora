{
  "cells": [
    {
      "cell_type": "markdown",
      "metadata": {
        "id": "view-in-github",
        "colab_type": "text"
      },
      "source": [
        "<a href=\"https://colab.research.google.com/github/1richi1/3D_Object_Recognition_DLNN/blob/main/ORION_ARCH_final_version_per_32x32x32.ipynb\" target=\"_parent\"><img src=\"https://colab.research.google.com/assets/colab-badge.svg\" alt=\"Open In Colab\"/></a>"
      ]
    },
    {
      "cell_type": "markdown",
      "source": [
        "# **AURORA**\n",
        "### *AUgmented Recognition ORientation-boosted Architecture*\n",
        "\n",
        "---\n",
        "##### Giovanni Girardin, Alberto Morselli, Riccardo Rettore 2110512\n",
        "---\n"
      ],
      "metadata": {
        "id": "Hbv203xxXbdW"
      }
    },
    {
      "cell_type": "code",
      "source": [
        "import os\n",
        "import numpy as np\n",
        "import torch\n",
        "import torch.nn as nn\n",
        "import torch.optim as optim\n",
        "import matplotlib.pyplot as plt\n",
        "from tqdm import tqdm\n",
        "from torch.utils.data import Dataset, DataLoader\n",
        "import h5py"
      ],
      "metadata": {
        "id": "pO4Guj5PVhDa"
      },
      "execution_count": null,
      "outputs": []
    },
    {
      "cell_type": "markdown",
      "source": [
        "**General info:**\n",
        "\n",
        "The augmented dataset is available at the following link: https://drive.google.com/file/d/1bRfeHYS-KcZ7qOQJoFgPBPendgOYzM2K/view?usp=drive_link\n",
        "\n",
        "The .pth checkpoint files used are available here: https://drive.google.com/drive/folders/1gOYiUpHhEE818x179wKjCSI7Q5iZOLPg?usp=drive_link\n",
        "\n",
        "To run the following cells, be sure to have in your \"My drive\" section the dataset_40_32.h5 file and to create a pth_results folder with all the .pth files inside."
      ],
      "metadata": {
        "id": "jdUwCdWbA6p5"
      }
    },
    {
      "cell_type": "markdown",
      "source": [
        "## HDF5 AUGMENTED DATASET\n",
        "\n",
        "\n"
      ],
      "metadata": {
        "id": "77kUpISfggZB"
      }
    },
    {
      "cell_type": "code",
      "execution_count": null,
      "metadata": {
        "id": "SI8Y_ZxQ5158",
        "colab": {
          "base_uri": "https://localhost:8080/"
        },
        "outputId": "c2ec4438-a442-476d-aad0-86bc2b899aa3"
      },
      "outputs": [
        {
          "output_type": "stream",
          "name": "stdout",
          "text": [
            "Mounted at /content/drive\n",
            "cuda\n"
          ]
        }
      ],
      "source": [
        "from google.colab import drive\n",
        "drive.mount('/content/drive', force_remount=True)\n",
        "\n",
        "save_path = \"/content/drive/My Drive/pth_results/\"\n",
        "\n",
        "if not os.path.exists(save_path):\n",
        "    # Create the folder\n",
        "    os.makedirs(save_path)\n",
        "    print(f\"Folder '{save_path}' created successfully.\")\n",
        "\n",
        "hdf5_file_path = \"/content/drive/My Drive/dataset_40_32.h5\"\n",
        "ORIENT_LABELS = 18\n",
        "device = 'cuda' if torch.cuda.is_available() else 'cpu'\n",
        "print(device)"
      ]
    },
    {
      "cell_type": "markdown",
      "source": [
        "### Dataloader"
      ],
      "metadata": {
        "id": "HePytQ58hd4O"
      }
    },
    {
      "cell_type": "code",
      "source": [
        "class VoxelDatasetHDF5(Dataset):\n",
        "    def __init__(self, hdf5_file, train=True, transform=None):\n",
        "        self.hdf5_file = hdf5_file\n",
        "        self.train = train\n",
        "        self.transform = transform\n",
        "\n",
        "        # Open the HDF5 file\n",
        "        with h5py.File(self.hdf5_file, 'r') as f:\n",
        "            # Get class names from the structure of the HDF5 file\n",
        "            self.classes = sorted(list(f['classes'].keys()))\n",
        "\n",
        "            # Collect all paths (keys) to the datasets inside HDF5\n",
        "            self.file_paths = []\n",
        "            for class_name in self.classes:\n",
        "                folder = 'train' if train else 'test'\n",
        "                class_group = f['classes'][class_name][folder]\n",
        "                self.file_paths += [(class_name, folder, file_name) for file_name in class_group.keys()]\n",
        "\n",
        "    def __len__(self):\n",
        "        return len(self.file_paths)\n",
        "\n",
        "    def __getitem__(self, idx):\n",
        "        class_name, folder, file_name = self.file_paths[idx]\n",
        "\n",
        "        # Detect corrupted files based on the presence of \"(1)\" in the file name\n",
        "        if \"(1)\" in file_name:\n",
        "            print(f\"Corrupted file detected and skipped: {file_name}\")\n",
        "            return None  # Skip this file\n",
        "\n",
        "        # Load voxelized numpy array from the HDF5 file\n",
        "        with h5py.File(self.hdf5_file, 'r') as f:\n",
        "            voxel_data = f['classes'][class_name][folder][file_name][()]\n",
        "\n",
        "        # Add a channel dimension: Shape (1, 33, 33, 33)\n",
        "        voxel_data = np.expand_dims(voxel_data, axis=0)\n",
        "\n",
        "        if self.transform:\n",
        "            voxel_data = self.transform(voxel_data)\n",
        "\n",
        "        voxel_data = torch.tensor(voxel_data, dtype=torch.float32)\n",
        "\n",
        "        # Get class label\n",
        "        class_label = self.classes.index(class_name)\n",
        "\n",
        "        # Extract the orientation from the file name and convert to a bin index based on the number of bins for this class\n",
        "        try:\n",
        "            orientation_number = int(file_name.split('_')[-1].split('.')[0])\n",
        "        except:\n",
        "            orientation_number = 17  # Handle error case\n",
        "            print(f\"Error parsing orientation for file: {file_name}\")\n",
        "\n",
        "        orientation_label = torch.tensor(orientation_number, dtype=torch.long)\n",
        "\n",
        "        return voxel_data, class_label, orientation_label"
      ],
      "metadata": {
        "id": "oubjLPv4SPdj"
      },
      "execution_count": null,
      "outputs": []
    },
    {
      "cell_type": "markdown",
      "source": [
        "## ARCHITECTURE"
      ],
      "metadata": {
        "id": "dJOHsLj8hwmN"
      }
    },
    {
      "cell_type": "code",
      "source": [
        "class ImprovedORION(nn.Module):\n",
        "    def __init__(self, num_class=40, num_orient=105):\n",
        "        super().__init__()\n",
        "\n",
        "        self.conv_net = nn.Sequential(\n",
        "            #conv1\n",
        "            nn.Conv3d(1,32,3,stride=2,padding=1),\n",
        "            nn.BatchNorm3d(32),\n",
        "            nn.LeakyReLU(0.1,True),\n",
        "            nn.Dropout3d(0.2),\n",
        "\n",
        "            #conv2\n",
        "            nn.Conv3d(32,64,3,1,1),\n",
        "            nn.BatchNorm3d(64),\n",
        "            nn.LeakyReLU(0.1,True),\n",
        "            nn.Dropout3d(0.3),\n",
        "\n",
        "            #conv3\n",
        "            nn.Conv3d(64,128,3,1,0),\n",
        "            nn.BatchNorm3d(128),\n",
        "            nn.LeakyReLU(0.1,True),\n",
        "            #pool3\n",
        "            nn.MaxPool3d(2,2),\n",
        "            nn.Dropout3d(0.4),\n",
        "\n",
        "            #conv4\n",
        "            nn.Conv3d(128,256,3,1,0),\n",
        "            nn.BatchNorm3d(256),\n",
        "            nn.LeakyReLU(0.1,True),\n",
        "            #pool4\n",
        "            nn.MaxPool3d(2,2),\n",
        "            nn.Dropout3d(0.6),\n",
        "        )\n",
        "\n",
        "        self.flatten = nn.Flatten()\n",
        "\n",
        "        self.fc_net = nn.Sequential(\n",
        "            nn.Linear(256*2**3, 256),\n",
        "            nn.LeakyReLU(0.1, inplace=True),\n",
        "            nn.Linear(256, num_class + num_orient),\n",
        "        )\n",
        "        # Initialize the weights\n",
        "        self.num_class = num_class\n",
        "        self.num_orient = num_orient\n",
        "\n",
        "    def forward(self, x):\n",
        "        x = self.conv_net(x)\n",
        "        x = self.flatten(x)\n",
        "        x = self.fc_net(x)\n",
        "\n",
        "        # Split the output into class and orientation\n",
        "        class_output = x[:, :self.num_class]  # First part for class\n",
        "        orient_output = x[:, self.num_class:]  # Remaining part for orientation\n",
        "        return class_output, orient_output\n",
        "\n",
        "class CustomCrossEntropyLoss(nn.Module):\n",
        "    def __init__(self, neurons_per_class):\n",
        "        super(CustomCrossEntropyLoss, self).__init__()\n",
        "        self.neurons_per_class = neurons_per_class\n",
        "\n",
        "        self.incremental = np.cumsum(self.neurons_per_class)\n",
        "        self.incremental = np.insert(self.incremental, 0, 0)\n",
        "        self.incremental = self.incremental[:-1]\n",
        "\n",
        "        self.scaling_factor = np.array([ ORIENT_LABELS // self.neurons_per_class[i] for i in range(len(self.neurons_per_class))])\n",
        "        self.cross_entropy = nn.CrossEntropyLoss()\n",
        "\n",
        "    def forward(self, class_neurons, orient_neurons, class_labels, orient_labels):\n",
        "        remapped_labels = torch.zeros_like(orient_labels)\n",
        "        for i in range(orient_labels.shape[0]):\n",
        "            remapped_labels[i] = self.incremental[class_labels[i]] + orient_labels[i] // self.scaling_factor[class_labels[i]]\n",
        "\n",
        "        class_loss = self.cross_entropy(class_neurons, class_labels)\n",
        "        orient_loss = self.cross_entropy(orient_neurons, remapped_labels)\n",
        "\n",
        "        return class_loss, orient_loss"
      ],
      "metadata": {
        "id": "MWzET4HuMnBN"
      },
      "execution_count": null,
      "outputs": []
    },
    {
      "cell_type": "markdown",
      "source": [
        "## TRAINING & VALIDATION"
      ],
      "metadata": {
        "id": "uWjVa5AGiwW5"
      }
    },
    {
      "cell_type": "code",
      "source": [
        "def train_and_val_model(model, train_loader, criterion, optimizer, start_epoch=0, num_epochs=10, device=device, gamma=0.5):\n",
        "    model.to(device)\n",
        "\n",
        "    #dont train the loss\n",
        "    for param in criterion.parameters():\n",
        "          param.requires_grad = False\n",
        "\n",
        "    for epoch in range(start_epoch, num_epochs):\n",
        "\n",
        "        #training step\n",
        "        print(\"TRAINING Epoch #\",epoch)\n",
        "        model.train()\n",
        "        running_loss = 0.0\n",
        "\n",
        "        # Loop over the dataset\n",
        "        for voxel_data, class_labels, orientation_labels in tqdm(train_loader):\n",
        "            # Move data to the device\n",
        "            voxel_data = voxel_data.to(device)\n",
        "            class_labels = class_labels.to(device)\n",
        "            orientation_labels = orientation_labels.to(device)\n",
        "\n",
        "            # Forward pass\n",
        "            optimizer.zero_grad()\n",
        "            class_outputs, orient_outputs = model(voxel_data)\n",
        "\n",
        "            # Compute loss\n",
        "            class_loss, orient_loss = criterion(class_outputs, orient_outputs, class_labels, orientation_labels)\n",
        "            loss = gamma * class_loss + (1-gamma) * orient_loss\n",
        "\n",
        "            # Backpropagation and optimization\n",
        "            loss.backward()\n",
        "            optimizer.step()\n",
        "\n",
        "            running_loss += loss.item()\n",
        "            print(f'Batch Loss: {loss.item():.4f}')\n",
        "\n",
        "        # Print statistics at the end of every training epoch\n",
        "        print(f'Epoch [{epoch+1}/{num_epochs}], Loss: {running_loss/len(train_loader):.4f}')\n",
        "        save_model(epoch, model, optimizer, loss.item(), f\"{save_path}model_ORION_0.5_per32x32x32_epoch_{epoch}_batchsize_{batch_size}_numw{num_workers}.pth\")\n",
        "\n",
        "        #validation step\n",
        "        print(\"VALIDATION Epoch #\",epoch)\n",
        "        model.eval()\n",
        "        valid_loss = 0.0\n",
        "        correct_class = 0\n",
        "        correct_orient = 0\n",
        "        total_samples = 0\n",
        "\n",
        "        with torch.no_grad():\n",
        "            for voxel_data, class_labels, orientation_labels in tqdm(test_loader):\n",
        "                voxel_data = voxel_data.to(device)\n",
        "                class_labels = class_labels.to(device)\n",
        "                orientation_labels = orientation_labels.to(device)\n",
        "\n",
        "                class_outputs, orient_outputs = model(voxel_data)\n",
        "\n",
        "                class_loss, orient_loss = criterion(class_outputs, orient_outputs, class_labels, orientation_labels)\n",
        "                total_loss = gamma * class_loss + (1-gamma) * orient_loss\n",
        "\n",
        "                valid_loss += total_loss.item()\n",
        "\n",
        "                #extract the one with highest prob\n",
        "                _, predicted_class = torch.max(class_outputs, 1)\n",
        "\n",
        "                total_samples += class_labels.size(0)\n",
        "                correct_class += (class_labels == predicted_class).sum().item()\n",
        "\n",
        "                #remap the labels before performing the accuracy metric with orientations\n",
        "                remapped_labels = torch.zeros_like(orientation_labels)\n",
        "                predicted_orient = [[] for _ in range(orientation_labels.shape[0])]\n",
        "                for i in range(orientation_labels.shape[0]):\n",
        "                    remapped_labels[i] = criterion.incremental[class_labels[i]] + orientation_labels[i] // criterion.scaling_factor[class_labels[i]]\n",
        "                    metric = max(1, criterion.neurons_per_class[class_labels[i]]//3)\n",
        "                    _, predicted_orient[i] = torch.topk(orient_outputs[i], metric) #top-1/2/3\n",
        "\n",
        "                    if remapped_labels[i] in predicted_orient[i]:\n",
        "                        correct_orient += 1\n",
        "\n",
        "                print(f'correct_class: {correct_class}/{total_samples} correct_orient: {correct_orient}/{total_samples}')\n",
        "\n",
        "        class_accuracy = correct_class / total_samples\n",
        "        orient_accuracy = correct_orient / total_samples\n",
        "\n",
        "        print(f'Class Accuracy: {class_accuracy:.4f}')\n",
        "        print(f'Orientation Accuracy: {orient_accuracy:.4f}')"
      ],
      "metadata": {
        "id": "Cx6476SOSVZu"
      },
      "execution_count": null,
      "outputs": []
    },
    {
      "cell_type": "code",
      "source": [
        "def save_model(epoch, model, optimizer, loss, save_path=save_path):\n",
        "    torch.save({\n",
        "        'epoch': epoch,\n",
        "        'model_state_dict': model.state_dict(),\n",
        "        'optimizer_state_dict': optimizer.state_dict(),\n",
        "        'loss': loss,\n",
        "    }, save_path)\n",
        "    print(f\"Model saved to {save_path}\")\n",
        "\n",
        "def load_checkpoint(model, optimizer, checkpoint_path, device):\n",
        "    checkpoint = torch.load(checkpoint_path, map_location=device)\n",
        "\n",
        "    # Load model and optimizer state dicts\n",
        "    model.load_state_dict(checkpoint['model_state_dict'])\n",
        "    optimizer.load_state_dict(checkpoint['optimizer_state_dict'])\n",
        "\n",
        "    epoch = checkpoint['epoch'] +1\n",
        "    loss = checkpoint['loss']\n",
        "\n",
        "    print(f\"Checkpoint loaded model from epoch {epoch-1} with loss {loss}. Resuming next with epoch {epoch}\")\n",
        "\n",
        "    return model, optimizer, epoch, loss"
      ],
      "metadata": {
        "id": "mOlDS9YhSXD7"
      },
      "execution_count": null,
      "outputs": []
    },
    {
      "cell_type": "code",
      "source": [
        "num_workers = 0\n",
        "batch_size = 64\n",
        "train_dataset = VoxelDatasetHDF5(hdf5_file=hdf5_file_path, train=True)\n",
        "test_dataset = VoxelDatasetHDF5(hdf5_file=hdf5_file_path, train=False)"
      ],
      "metadata": {
        "id": "LbfjMpsm8q_m"
      },
      "execution_count": null,
      "outputs": []
    },
    {
      "cell_type": "code",
      "source": [
        "train_loader = DataLoader(train_dataset, batch_size=batch_size, shuffle=True, num_workers=num_workers)\n",
        "test_loader = DataLoader(test_dataset, batch_size=batch_size, shuffle=False, num_workers=num_workers)"
      ],
      "metadata": {
        "id": "Ffs2r50WaF13"
      },
      "execution_count": null,
      "outputs": []
    },
    {
      "cell_type": "code",
      "source": [
        "#ModelNet10\n",
        "#neurons_per_class = np.array([6, 3, 6, 6, 6, 9, 3, 6, 1, 9])\n",
        "#ModelNet40\n",
        "neurons_per_class = np.array([6, 6, 1, 6, 6, 1, 1, 3, 6, 1, 3, 9, 6, 6, 6, 3, 3, 9, 1, 3, 6, 6, 9, 3, 6, 9, 6, 3, 6, 6, 6, 9, 3, 1, 3, 6, 3, 1, 6, 6])\n",
        "\n",
        "# Initialize the model, loss function, and optimizer\n",
        "num_class = len(neurons_per_class)\n",
        "num_orient = neurons_per_class.sum()\n"
      ],
      "metadata": {
        "id": "G2Cb0GsEZtgM"
      },
      "execution_count": null,
      "outputs": []
    },
    {
      "cell_type": "code",
      "source": [
        "model = ImprovedORION(num_class=num_class, num_orient=num_orient)\n",
        "criterion = CustomCrossEntropyLoss(neurons_per_class=neurons_per_class)\n",
        "optimizer = optim.Adam(model.parameters(), lr=0.001)\n",
        "start_epoch = 0\n",
        "\n",
        "#model, optimizer, start_epoch, last_loss = load_checkpoint(model, optimizer, save_path+\"model_ORION_0.5_per32x32x32_epoch_9_batchsize_64_numw0.pth\", device)\n",
        "\n",
        "# Make sure to move optimizer's internal state to the correct device\n",
        "if(start_epoch > 0):\n",
        "    for state in optimizer.state.values():\n",
        "        for k, v in state.items():\n",
        "            if isinstance(v, torch.Tensor):\n",
        "                state[k] = v.to(device)\n",
        "\n",
        "train_and_val_model(model, train_loader, criterion, optimizer, start_epoch, num_epochs=10, device=device, gamma=0.5)\n"
      ],
      "metadata": {
        "colab": {
          "base_uri": "https://localhost:8080/"
        },
        "id": "0VaxgOV580YD",
        "outputId": "0bb49dfa-c8b6-469d-85fe-be36d7050f2a"
      },
      "execution_count": null,
      "outputs": [
        {
          "output_type": "stream",
          "name": "stderr",
          "text": [
            "<ipython-input-13-c76edbf797f0>:11: FutureWarning: You are using `torch.load` with `weights_only=False` (the current default value), which uses the default pickle module implicitly. It is possible to construct malicious pickle data which will execute arbitrary code during unpickling (See https://github.com/pytorch/pytorch/blob/main/SECURITY.md#untrusted-models for more details). In a future release, the default value for `weights_only` will be flipped to `True`. This limits the functions that could be executed during unpickling. Arbitrary objects will no longer be allowed to be loaded via this mode unless they are explicitly allowlisted by the user via `torch.serialization.add_safe_globals`. We recommend you start setting `weights_only=True` for any use case where you don't have full control of the loaded file. Please open an issue on GitHub for any issues related to this experimental feature.\n",
            "  checkpoint = torch.load(checkpoint_path, map_location=device)\n"
          ]
        },
        {
          "output_type": "stream",
          "name": "stdout",
          "text": [
            "Checkpoint loaded model from epoch 9 with loss 0.9442210793495178. Resuming next with epoch 10\n"
          ]
        }
      ]
    },
    {
      "cell_type": "markdown",
      "source": [
        "##VALIDATION PLOTS"
      ],
      "metadata": {
        "id": "pRQXDSVE-t0W"
      }
    },
    {
      "cell_type": "code",
      "source": [
        "num_epochs = 9  # Adjust this based on the number of checkpoints\n",
        "gamma = 0.5  # Replace with your actual gamma value\n",
        "device = torch.device(\"cuda\" if torch.cuda.is_available() else \"cpu\")\n",
        "\n",
        "# Lists to store the losses and accuracies for each epoch\n",
        "validation_losses = []\n",
        "class_accuracies = []\n",
        "orient_accuracies = []\n",
        "\n",
        "# Validation step for each checkpoint\n",
        "for epoch in range(num_epochs):\n",
        "    checkpoint_path = save_path+f\"model_ORION_0.5_per32x32x32_epoch_{epoch}_batchsize_64_numw0.pth\"\n",
        "    checkpoint = torch.load(checkpoint_path, map_location=device)\n",
        "\n",
        "    # Load model and optimizer states\n",
        "    model.load_state_dict(checkpoint['model_state_dict'])\n",
        "    optimizer.load_state_dict(checkpoint['optimizer_state_dict'])\n",
        "\n",
        "    # Perform validation\n",
        "    model.eval()\n",
        "    valid_loss = 0.0\n",
        "    correct_class = 0\n",
        "    correct_orient = 0\n",
        "    total_samples = 0\n",
        "\n",
        "    with torch.no_grad():\n",
        "        for voxel_data, class_labels, orientation_labels in tqdm(test_loader):\n",
        "            voxel_data = voxel_data.to(device)\n",
        "            class_labels = class_labels.to(device)\n",
        "            orientation_labels = orientation_labels.to(device)\n",
        "\n",
        "            # Forward pass\n",
        "            class_outputs, orient_outputs = model(voxel_data)\n",
        "\n",
        "            # Compute loss\n",
        "            class_loss, orient_loss = criterion(class_outputs, orient_outputs, class_labels, orientation_labels)\n",
        "            total_loss = gamma * class_loss + (1 - gamma) * orient_loss\n",
        "            valid_loss += total_loss.item()\n",
        "\n",
        "            # Accuracy for classes\n",
        "            _, predicted_class = torch.max(class_outputs, 1)\n",
        "            total_samples += class_labels.size(0)\n",
        "            correct_class += (class_labels == predicted_class).sum().item()\n",
        "\n",
        "            # Orientation accuracy\n",
        "            remapped_labels = torch.zeros_like(orientation_labels)\n",
        "            predicted_orient = [[] for _ in range(orientation_labels.shape[0])]\n",
        "            for i in range(orientation_labels.shape[0]):\n",
        "                remapped_labels[i] = criterion.incremental[class_labels[i]] + orientation_labels[i] // criterion.scaling_factor[class_labels[i]]\n",
        "                metric = max(1, criterion.neurons_per_class[class_labels[i]] // 3)\n",
        "                _, predicted_orient[i] = torch.topk(orient_outputs[i], metric)\n",
        "\n",
        "                if remapped_labels[i] in predicted_orient[i]:\n",
        "                    correct_orient += 1\n",
        "\n",
        "    # Calculate average loss and accuracy for this epoch\n",
        "    avg_valid_loss = valid_loss / len(test_loader)\n",
        "    class_accuracy = correct_class / total_samples\n",
        "    orient_accuracy = correct_orient / total_samples\n",
        "\n",
        "    # Store results for plotting\n",
        "    validation_losses.append(avg_valid_loss)\n",
        "    class_accuracies.append(class_accuracy)\n",
        "    orient_accuracies.append(orient_accuracy)\n",
        "\n",
        "    print(f\"Epoch {epoch+1}/{num_epochs} - Validation Loss: {avg_valid_loss:.4f}, \"\n",
        "          f\"Class Accuracy: {class_accuracy:.4f}, Orientation Accuracy: {orient_accuracy:.4f}\")\n",
        "\n",
        "# Plot validation loss\n",
        "plt.figure()\n",
        "plt.plot(range(1, num_epochs + 1), validation_losses, marker='o', label=\"Validation Loss\")\n",
        "plt.xlabel(\"Epoch\")\n",
        "plt.ylabel(\"Loss\")\n",
        "plt.title(\"Validation Loss Over Epochs\")\n",
        "plt.legend()\n",
        "plt.show()\n",
        "\n",
        "# Plot class accuracy\n",
        "plt.figure()\n",
        "plt.plot(range(1, num_epochs + 1), class_accuracies, marker='o', label=\"Class Accuracy\")\n",
        "plt.xlabel(\"Epoch\")\n",
        "plt.ylabel(\"Accuracy\")\n",
        "plt.title(\"Class Accuracy Over Epochs\")\n",
        "plt.legend()\n",
        "plt.show()\n",
        "\n",
        "# Plot orientation accuracy\n",
        "plt.figure()\n",
        "plt.plot(range(1, num_epochs + 1), orient_accuracies, marker='o', label=\"Orientation Accuracy\")\n",
        "plt.xlabel(\"Epoch\")\n",
        "plt.ylabel(\"Accuracy\")\n",
        "plt.title(\"Orientation Accuracy Over Epochs\")\n",
        "plt.legend()\n",
        "plt.show()\n"
      ],
      "metadata": {
        "id": "VRNINUh9o8Vq",
        "outputId": "37392a76-0d91-4e67-ac6b-b8a26a483e71",
        "colab": {
          "base_uri": "https://localhost:8080/",
          "height": 1000
        }
      },
      "execution_count": null,
      "outputs": [
        {
          "output_type": "stream",
          "name": "stderr",
          "text": [
            "<ipython-input-23-340a43e44c03>:13: FutureWarning: You are using `torch.load` with `weights_only=False` (the current default value), which uses the default pickle module implicitly. It is possible to construct malicious pickle data which will execute arbitrary code during unpickling (See https://github.com/pytorch/pytorch/blob/main/SECURITY.md#untrusted-models for more details). In a future release, the default value for `weights_only` will be flipped to `True`. This limits the functions that could be executed during unpickling. Arbitrary objects will no longer be allowed to be loaded via this mode unless they are explicitly allowlisted by the user via `torch.serialization.add_safe_globals`. We recommend you start setting `weights_only=True` for any use case where you don't have full control of the loaded file. Please open an issue on GitHub for any issues related to this experimental feature.\n",
            "  checkpoint = torch.load(checkpoint_path, map_location=device)\n",
            "100%|██████████| 43566/43566 [06:04<00:00, 119.37it/s]\n"
          ]
        },
        {
          "output_type": "stream",
          "name": "stdout",
          "text": [
            "Epoch 1/9 - Validation Loss: 1.0938, Class Accuracy: 0.8365, Orientation Accuracy: 0.5965\n"
          ]
        },
        {
          "output_type": "stream",
          "name": "stderr",
          "text": [
            "100%|██████████| 43566/43566 [05:50<00:00, 124.30it/s]\n"
          ]
        },
        {
          "output_type": "stream",
          "name": "stdout",
          "text": [
            "Epoch 2/9 - Validation Loss: 0.9901, Class Accuracy: 0.8620, Orientation Accuracy: 0.6216\n"
          ]
        },
        {
          "output_type": "stream",
          "name": "stderr",
          "text": [
            "100%|██████████| 43566/43566 [05:35<00:00, 129.70it/s]\n"
          ]
        },
        {
          "output_type": "stream",
          "name": "stdout",
          "text": [
            "Epoch 3/9 - Validation Loss: 0.9666, Class Accuracy: 0.8578, Orientation Accuracy: 0.6310\n"
          ]
        },
        {
          "output_type": "stream",
          "name": "stderr",
          "text": [
            "100%|██████████| 43566/43566 [05:29<00:00, 132.05it/s]\n"
          ]
        },
        {
          "output_type": "stream",
          "name": "stdout",
          "text": [
            "Epoch 4/9 - Validation Loss: 0.9343, Class Accuracy: 0.8729, Orientation Accuracy: 0.6440\n"
          ]
        },
        {
          "output_type": "stream",
          "name": "stderr",
          "text": [
            "100%|██████████| 43566/43566 [05:30<00:00, 131.79it/s]\n"
          ]
        },
        {
          "output_type": "stream",
          "name": "stdout",
          "text": [
            "Epoch 5/9 - Validation Loss: 0.9339, Class Accuracy: 0.8733, Orientation Accuracy: 0.6447\n"
          ]
        },
        {
          "output_type": "stream",
          "name": "stderr",
          "text": [
            "100%|██████████| 43566/43566 [05:28<00:00, 132.65it/s]\n"
          ]
        },
        {
          "output_type": "stream",
          "name": "stdout",
          "text": [
            "Epoch 6/9 - Validation Loss: 0.9352, Class Accuracy: 0.8735, Orientation Accuracy: 0.6448\n"
          ]
        },
        {
          "output_type": "stream",
          "name": "stderr",
          "text": [
            "100%|██████████| 43566/43566 [05:29<00:00, 132.35it/s]\n"
          ]
        },
        {
          "output_type": "stream",
          "name": "stdout",
          "text": [
            "Epoch 7/9 - Validation Loss: 0.9196, Class Accuracy: 0.8794, Orientation Accuracy: 0.6506\n"
          ]
        },
        {
          "output_type": "stream",
          "name": "stderr",
          "text": [
            "100%|██████████| 43566/43566 [05:42<00:00, 127.13it/s]\n"
          ]
        },
        {
          "output_type": "stream",
          "name": "stdout",
          "text": [
            "Epoch 8/9 - Validation Loss: 0.9140, Class Accuracy: 0.8783, Orientation Accuracy: 0.6559\n"
          ]
        },
        {
          "output_type": "stream",
          "name": "stderr",
          "text": [
            "100%|██████████| 43566/43566 [05:45<00:00, 126.08it/s]\n"
          ]
        },
        {
          "output_type": "stream",
          "name": "stdout",
          "text": [
            "Epoch 9/9 - Validation Loss: 0.9158, Class Accuracy: 0.8792, Orientation Accuracy: 0.6550\n"
          ]
        },
        {
          "output_type": "display_data",
          "data": {
            "text/plain": [
              "<Figure size 640x480 with 1 Axes>"
            ],
            "image/png": "[encoded data removed]"
          },
          "metadata": {}
        },
        {
          "output_type": "display_data",
          "data": {
            "text/plain": [
              "<Figure size 640x480 with 1 Axes>"
            ],
            "image/png": "[encoded data removed]"
          },
          "metadata": {}
        },
        {
          "output_type": "display_data",
          "data": {
            "text/plain": [
              "<Figure size 640x480 with 1 Axes>"
            ],
            "image/png": "[encoded data removed]"
          },
          "metadata": {}
        }
      ]
    },
    {
      "cell_type": "code",
      "source": [],
      "metadata": {
        "id": "0YnuEo8dM3KK"
      },
      "execution_count": null,
      "outputs": []
    }
  ],
  "metadata": {
    "accelerator": "GPU",
    "colab": {
      "gpuType": "T4",
      "provenance": [],
      "include_colab_link": true
    },
    "kernelspec": {
      "display_name": "Python 3",
      "name": "python3"
    },
    "language_info": {
      "codemirror_mode": {
        "name": "ipython",
        "version": 3
      },
      "file_extension": ".py",
      "mimetype": "text/x-python",
      "name": "python",
      "nbconvert_exporter": "python",
      "pygments_lexer": "ipython3",
      "version": "3.10.0"
    }
  },
  "nbformat": 4,
  "nbformat_minor": 0
}